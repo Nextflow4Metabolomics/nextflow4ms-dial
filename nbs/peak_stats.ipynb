{
 "cells": [
  {
   "cell_type": "code",
   "execution_count": 44,
   "id": "creative-behalf",
   "metadata": {},
   "outputs": [],
   "source": [
    "import pandas as pd\n",
    "import numpy as np\n",
    "from operator import itemgetter "
   ]
  },
  {
   "cell_type": "markdown",
   "id": "western-companion",
   "metadata": {},
   "source": [
    "## Identify Overlapping Peaks of Two Peak Tables"
   ]
  },
  {
   "cell_type": "code",
   "execution_count": 2,
   "id": "brutal-runner",
   "metadata": {},
   "outputs": [],
   "source": [
    "def ppm_calculation(x, y):\n",
    "    return abs(x-y)*10e6/y"
   ]
  },
  {
   "cell_type": "code",
   "execution_count": 3,
   "id": "expected-praise",
   "metadata": {},
   "outputs": [],
   "source": [
    "def nearest_value(lst, K):\n",
    "    return lst[min(range(len(lst)), key = lambda i: abs(lst[i]-K))]"
   ]
  },
  {
   "cell_type": "code",
   "execution_count": 79,
   "id": "wicked-illinois",
   "metadata": {},
   "outputs": [],
   "source": [
    "def MS1_match(mz, rt, mz_list, rt_list, col_name_mz, col_name_rt, ppm_threshold, rt_tolerance):\n",
    "#    print(\"enter match\")\n",
    "    df = pd.DataFrame(list(zip(mz_list, rt_list)),\n",
    "               columns =[col_name_mz, col_name_rt])\n",
    "    if len(df[(ppm_calculation(mz, df[col_name_mz])<=ppm_threshold) & (abs(df[col_name_rt] - rt) < rt_tolerance)])>0:\n",
    "        return True\n",
    "    else:\n",
    "        return False"
   ]
  },
  {
   "cell_type": "code",
   "execution_count": 80,
   "id": "romantic-arbor",
   "metadata": {},
   "outputs": [],
   "source": [
    "def overlapping_peaks(t_1, t_2, col_name_mz, col_name_rt, ppm_threshold, rt_tolerance):\n",
    "    flag = 0\n",
    "    flagged_rows = []\n",
    "    total = t_2.shape[0]\n",
    "    if type(t_1[col_name_mz].iloc[0]) == np.float64:\n",
    "        no_string = 1\n",
    "    else:\n",
    "        no_string = 0      \n",
    "    mz_list = []\n",
    "    rt_list = []\n",
    "    if no_string == 1:\n",
    "        mz_list = list(t_1[col_name_mz])\n",
    "        rt_list = list(t_1[col_name_rt])\n",
    "    else:\n",
    "        for mz_element in t_1[col_name_mz].str.split(\"_\"):\n",
    "#            print(mz)\n",
    "            mz_list += [float(x) for x in mz_element]\n",
    "        for rt_element in t_1[col_name_rt].str.split(\"_\"):\n",
    "            rt_list += [float(x) for x in rt_element]\n",
    "    for i in range(total):\n",
    "        print(str(i*100/total) + \"%\", end=\"\\r\")\n",
    "        second_flag = 0\n",
    "        if (type(t_2[col_name_mz].iloc[i]) == np.float64) or (\"_\" not in t_2[col_name_mz].iloc[i]):\n",
    "#            print(mz_list)\n",
    "#            break\n",
    "            mz = float(t_2[col_name_mz].iloc[i])\n",
    "            rt = float(t_2[col_name_rt].iloc[i])\n",
    "#            nearest_ids = [p for p, x in enumerate(mz_list) if x == nearest_value(mz_list, mz)] # mz_list.index(nearest_value(mz_list, mz))\n",
    "            if MS1_match(mz, rt, mz_list, rt_list, col_name_mz, col_name_rt, ppm_threshold, rt_tolerance):\n",
    "                continue\n",
    "            else:\n",
    "                flag = 1\n",
    "        else:\n",
    "            print(\"mz value is a string\")\n",
    "            for j in range(len(t_2[col_name_mz].iloc[i].split(\"_\"))):\n",
    "                mz = float(t_2[col_name_mz].iloc[i].split(\"_\")[j])\n",
    "                rt = float(t_2[col_name_rt].iloc[i].split(\"_\")[j])\n",
    "                nearest_id = mz_list.index(nearest_value(mz_list, mz))\n",
    "                if MS1_match(mz, rt, mz_list, rt_list, col_name_mz, col_name_rt, ppm_threshold, rt_tolerance):\n",
    "                    second_flag = 1\n",
    "                    continue\n",
    "            if second_flag == 0:\n",
    "                flag = 1\n",
    "        if flag == 1:\n",
    "            flagged_rows.append(i)\n",
    "#            print(mz)\n",
    "#            print(mz_list[nearest_id])\n",
    "#            print(\"------------------\")\n",
    "#            print(rt)\n",
    "#            print(rt_list[nearest_id])\n",
    "    return t_2.drop(labels=flagged_rows, axis=0)"
   ]
  },
  {
   "cell_type": "code",
   "execution_count": 54,
   "id": "about-bandwidth",
   "metadata": {},
   "outputs": [],
   "source": [
    "def quantification(t_1, t_2, t_merged, col_name_annotation_status, desired_identification_status, col_name_metabolite_name):\n",
    "    n_rows_t_1 = t_1.shape[0]\n",
    "    n_rows_t_2 = t_2.shape[0]\n",
    "    n_rows_t_merged = t_merged.shape[0]\n",
    "    \n",
    "    n_annotated_rows_t_1 = t_1[t_1[col_name_annotation_status] == desired_identification_status].shape[0]\n",
    "    n_annotated_rows_t_2 = t_2[t_2[col_name_annotation_status] == desired_identification_status].shape[0]\n",
    "    n_annotated_rows_t_merged = t_merged[t_merged[col_name_annotation_status] == desired_identification_status].shape[0]\n",
    "    \n",
    "    tpr_t_1 = round(n_annotated_rows_t_1/n_rows_t_1, 4)\n",
    "    tpr_t_2 = round(n_annotated_rows_t_2/n_rows_t_2, 4)\n",
    "    tpr_t_merged = round(n_annotated_rows_t_merged/n_rows_t_merged, 4)\n",
    "    \n",
    "    n_deduplicated_metabolites_t_1 = t_1[t_1[col_name_annotation_status] == desired_identification_status].drop_duplicates(subset = col_name_metabolite_name).shape[0]\n",
    "    n_deduplicated_metabolites_t_2 = t_2[t_2[col_name_annotation_status] == desired_identification_status].drop_duplicates(subset = col_name_metabolite_name).shape[0]\n",
    "    n_deduplicated_metabolites_t_merged = t_merged[t_merged[col_name_annotation_status] == desired_identification_status].drop_duplicates(subset = col_name_metabolite_name).shape[0]\n",
    "    \n",
    "    d = {\n",
    "        'Peak Tables': ['Peak Table 1', 'Peak Table 2', 'Merged Peak Table'],\n",
    "        'Total Number of Peaks': [n_rows_t_1, n_rows_t_2, n_rows_t_merged],\n",
    "        'Number of True Peaks': [n_annotated_rows_t_1, n_annotated_rows_t_2, n_annotated_rows_t_merged],\n",
    "        'True Positive Rate': [tpr_t_1, tpr_t_2, tpr_t_merged],\n",
    "        'Number of Distinct Metabolites': [n_deduplicated_metabolites_t_1, n_deduplicated_metabolites_t_2, n_deduplicated_metabolites_t_merged]\n",
    "    }\n",
    "    \n",
    "    df = pd.DataFrame(data=d)\n",
    "    \n",
    "    return df"
   ]
  },
  {
   "cell_type": "markdown",
   "id": "concerned-directory",
   "metadata": {},
   "source": [
    "### Local CMD VS HPC CMD"
   ]
  },
  {
   "cell_type": "markdown",
   "id": "functional-gilbert",
   "metadata": {},
   "source": [
    "#### MS-DIAL"
   ]
  },
  {
   "cell_type": "code",
   "execution_count": 58,
   "id": "cooperative-marking",
   "metadata": {},
   "outputs": [],
   "source": [
    "table_1 = pd.read_csv(\"../../nextflow4metabolomics_manuscripts/nextflow4ms-dial/peak_table/hpc_cmd/ms-dial/AlignResult-2023282236.txt\", delimiter=\"\\t\", header=4)"
   ]
  },
  {
   "cell_type": "code",
   "execution_count": 59,
   "id": "turned-certificate",
   "metadata": {},
   "outputs": [],
   "source": [
    "table_2 = pd.read_csv(\"../../nextflow4metabolomics_manuscripts/nextflow4ms-dial/peak_table/local_cmd/ms-dial/AlignResult-2023291844.txt\", delimiter=\"\\t\", header=4)"
   ]
  },
  {
   "cell_type": "code",
   "execution_count": 60,
   "id": "computational-attitude",
   "metadata": {},
   "outputs": [
    {
     "data": {
      "text/plain": [
       "25952"
      ]
     },
     "execution_count": 60,
     "metadata": {},
     "output_type": "execute_result"
    }
   ],
   "source": [
    "len(table_1)"
   ]
  },
  {
   "cell_type": "code",
   "execution_count": 61,
   "id": "secret-bottom",
   "metadata": {},
   "outputs": [
    {
     "data": {
      "text/html": [
       "<div>\n",
       "<style scoped>\n",
       "    .dataframe tbody tr th:only-of-type {\n",
       "        vertical-align: middle;\n",
       "    }\n",
       "\n",
       "    .dataframe tbody tr th {\n",
       "        vertical-align: top;\n",
       "    }\n",
       "\n",
       "    .dataframe thead th {\n",
       "        text-align: right;\n",
       "    }\n",
       "</style>\n",
       "<table border=\"1\" class=\"dataframe\">\n",
       "  <thead>\n",
       "    <tr style=\"text-align: right;\">\n",
       "      <th></th>\n",
       "      <th>Alignment ID</th>\n",
       "      <th>Average Rt(min)</th>\n",
       "      <th>Average Mz</th>\n",
       "      <th>Metabolite name</th>\n",
       "      <th>Adduct type</th>\n",
       "      <th>Post curation result</th>\n",
       "      <th>Fill %</th>\n",
       "      <th>MS/MS assigned</th>\n",
       "      <th>Reference RT</th>\n",
       "      <th>Reference m/z</th>\n",
       "      <th>...</th>\n",
       "      <th>SB3</th>\n",
       "      <th>SA2</th>\n",
       "      <th>SB4</th>\n",
       "      <th>SB5</th>\n",
       "      <th>SA1</th>\n",
       "      <th>SB2</th>\n",
       "      <th>SA3</th>\n",
       "      <th>SA4</th>\n",
       "      <th>SB1</th>\n",
       "      <th>SA5</th>\n",
       "    </tr>\n",
       "  </thead>\n",
       "  <tbody>\n",
       "    <tr>\n",
       "      <th>0</th>\n",
       "      <td>0</td>\n",
       "      <td>35.967</td>\n",
       "      <td>100.01428</td>\n",
       "      <td>Unknown</td>\n",
       "      <td>[M+NH4]2+</td>\n",
       "      <td>adduct linked to 2205_[M+H]+</td>\n",
       "      <td>0.9</td>\n",
       "      <td>False</td>\n",
       "      <td>NaN</td>\n",
       "      <td>NaN</td>\n",
       "      <td>...</td>\n",
       "      <td>1271661.10</td>\n",
       "      <td>942749.0</td>\n",
       "      <td>1253242.1</td>\n",
       "      <td>1348959.90</td>\n",
       "      <td>765282.90</td>\n",
       "      <td>1239561.40</td>\n",
       "      <td>1229463.00</td>\n",
       "      <td>880391.20</td>\n",
       "      <td>907290.06</td>\n",
       "      <td>1132224.90</td>\n",
       "    </tr>\n",
       "    <tr>\n",
       "      <th>1</th>\n",
       "      <td>1</td>\n",
       "      <td>0.500</td>\n",
       "      <td>100.01443</td>\n",
       "      <td>Unknown</td>\n",
       "      <td>[M+H]2+</td>\n",
       "      <td>adduct linked to 3481_[M+Na]+</td>\n",
       "      <td>1.0</td>\n",
       "      <td>False</td>\n",
       "      <td>NaN</td>\n",
       "      <td>NaN</td>\n",
       "      <td>...</td>\n",
       "      <td>16130891.00</td>\n",
       "      <td>13925881.0</td>\n",
       "      <td>17702120.0</td>\n",
       "      <td>20029132.00</td>\n",
       "      <td>8001129.00</td>\n",
       "      <td>15492309.00</td>\n",
       "      <td>16331838.00</td>\n",
       "      <td>16200029.00</td>\n",
       "      <td>6891007.50</td>\n",
       "      <td>18298616.00</td>\n",
       "    </tr>\n",
       "    <tr>\n",
       "      <th>2</th>\n",
       "      <td>2</td>\n",
       "      <td>0.590</td>\n",
       "      <td>100.01444</td>\n",
       "      <td>Unknown</td>\n",
       "      <td>[M+2H]2+</td>\n",
       "      <td>NaN</td>\n",
       "      <td>1.0</td>\n",
       "      <td>False</td>\n",
       "      <td>NaN</td>\n",
       "      <td>NaN</td>\n",
       "      <td>...</td>\n",
       "      <td>9658213.00</td>\n",
       "      <td>10046386.0</td>\n",
       "      <td>12457828.0</td>\n",
       "      <td>11770822.00</td>\n",
       "      <td>8898810.00</td>\n",
       "      <td>8653832.00</td>\n",
       "      <td>10247660.00</td>\n",
       "      <td>10474542.00</td>\n",
       "      <td>12107133.00</td>\n",
       "      <td>10473924.00</td>\n",
       "    </tr>\n",
       "    <tr>\n",
       "      <th>3</th>\n",
       "      <td>3</td>\n",
       "      <td>31.647</td>\n",
       "      <td>100.06959</td>\n",
       "      <td>Unknown</td>\n",
       "      <td>[M+H]+</td>\n",
       "      <td>NaN</td>\n",
       "      <td>1.0</td>\n",
       "      <td>False</td>\n",
       "      <td>NaN</td>\n",
       "      <td>NaN</td>\n",
       "      <td>...</td>\n",
       "      <td>2112368.20</td>\n",
       "      <td>1108073.5</td>\n",
       "      <td>2052877.8</td>\n",
       "      <td>1913928.40</td>\n",
       "      <td>824087.44</td>\n",
       "      <td>2037453.50</td>\n",
       "      <td>1230883.00</td>\n",
       "      <td>1154022.80</td>\n",
       "      <td>2215985.00</td>\n",
       "      <td>1614246.20</td>\n",
       "    </tr>\n",
       "    <tr>\n",
       "      <th>4</th>\n",
       "      <td>4</td>\n",
       "      <td>1.649</td>\n",
       "      <td>100.07572</td>\n",
       "      <td>Unknown</td>\n",
       "      <td>[M+H]+</td>\n",
       "      <td>NaN</td>\n",
       "      <td>0.3</td>\n",
       "      <td>False</td>\n",
       "      <td>NaN</td>\n",
       "      <td>NaN</td>\n",
       "      <td>...</td>\n",
       "      <td>415411.38</td>\n",
       "      <td>254863.5</td>\n",
       "      <td>177510.1</td>\n",
       "      <td>169264.19</td>\n",
       "      <td>504849.25</td>\n",
       "      <td>189854.14</td>\n",
       "      <td>256529.31</td>\n",
       "      <td>188777.28</td>\n",
       "      <td>311481.53</td>\n",
       "      <td>412152.28</td>\n",
       "    </tr>\n",
       "  </tbody>\n",
       "</table>\n",
       "<p>5 rows × 42 columns</p>\n",
       "</div>"
      ],
      "text/plain": [
       "   Alignment ID  Average Rt(min)  Average Mz Metabolite name Adduct type  \\\n",
       "0             0           35.967   100.01428         Unknown   [M+NH4]2+   \n",
       "1             1            0.500   100.01443         Unknown     [M+H]2+   \n",
       "2             2            0.590   100.01444         Unknown    [M+2H]2+   \n",
       "3             3           31.647   100.06959         Unknown      [M+H]+   \n",
       "4             4            1.649   100.07572         Unknown      [M+H]+   \n",
       "\n",
       "            Post curation result  Fill %  MS/MS assigned  Reference RT  \\\n",
       "0   adduct linked to 2205_[M+H]+     0.9           False           NaN   \n",
       "1  adduct linked to 3481_[M+Na]+     1.0           False           NaN   \n",
       "2                            NaN     1.0           False           NaN   \n",
       "3                            NaN     1.0           False           NaN   \n",
       "4                            NaN     0.3           False           NaN   \n",
       "\n",
       "   Reference m/z  ...          SB3         SA2         SB4          SB5  \\\n",
       "0            NaN  ...   1271661.10    942749.0   1253242.1   1348959.90   \n",
       "1            NaN  ...  16130891.00  13925881.0  17702120.0  20029132.00   \n",
       "2            NaN  ...   9658213.00  10046386.0  12457828.0  11770822.00   \n",
       "3            NaN  ...   2112368.20   1108073.5   2052877.8   1913928.40   \n",
       "4            NaN  ...    415411.38    254863.5    177510.1    169264.19   \n",
       "\n",
       "          SA1          SB2          SA3          SA4          SB1          SA5  \n",
       "0   765282.90   1239561.40   1229463.00    880391.20    907290.06   1132224.90  \n",
       "1  8001129.00  15492309.00  16331838.00  16200029.00   6891007.50  18298616.00  \n",
       "2  8898810.00   8653832.00  10247660.00  10474542.00  12107133.00  10473924.00  \n",
       "3   824087.44   2037453.50   1230883.00   1154022.80   2215985.00   1614246.20  \n",
       "4   504849.25    189854.14    256529.31    188777.28    311481.53    412152.28  \n",
       "\n",
       "[5 rows x 42 columns]"
      ]
     },
     "execution_count": 61,
     "metadata": {},
     "output_type": "execute_result"
    }
   ],
   "source": [
    "table_1.head()"
   ]
  },
  {
   "cell_type": "code",
   "execution_count": 62,
   "id": "black-happening",
   "metadata": {},
   "outputs": [
    {
     "data": {
      "text/plain": [
       "25447"
      ]
     },
     "execution_count": 62,
     "metadata": {},
     "output_type": "execute_result"
    }
   ],
   "source": [
    "len(table_2)"
   ]
  },
  {
   "cell_type": "code",
   "execution_count": 63,
   "id": "incorporate-grenada",
   "metadata": {},
   "outputs": [
    {
     "data": {
      "text/plain": [
       "True"
      ]
     },
     "execution_count": 63,
     "metadata": {},
     "output_type": "execute_result"
    }
   ],
   "source": [
    "type(table_2[\"Average Mz\"].iloc[0])==np.float64"
   ]
  },
  {
   "cell_type": "code",
   "execution_count": 64,
   "id": "frozen-speech",
   "metadata": {},
   "outputs": [
    {
     "name": "stdout",
     "output_type": "stream",
     "text": [
      "99.99607026368531%%%%\r"
     ]
    }
   ],
   "source": [
    "table_merged_11 = overlapping_peaks(table_1, table_2, \"Average Mz\", \"Average Rt(min)\", 10, 0.3)"
   ]
  },
  {
   "cell_type": "code",
   "execution_count": 65,
   "id": "rapid-banner",
   "metadata": {},
   "outputs": [
    {
     "data": {
      "text/plain": [
       "18051"
      ]
     },
     "execution_count": 65,
     "metadata": {},
     "output_type": "execute_result"
    }
   ],
   "source": [
    "len(table_merged_11)"
   ]
  },
  {
   "cell_type": "markdown",
   "id": "physical-launch",
   "metadata": {},
   "source": [
    "#### MS-FLO"
   ]
  },
  {
   "cell_type": "code",
   "execution_count": 232,
   "id": "worth-rendering",
   "metadata": {},
   "outputs": [],
   "source": [
    "table_1 = pd.read_csv(\"../../nextflow4metabolomics_manuscripts/nextflow4ms-dial/peak_table/hpc_cmd/ms-flo/AlignResult-2023282236_processed.txt\", delimiter=\"\\t\")"
   ]
  },
  {
   "cell_type": "code",
   "execution_count": 233,
   "id": "discrete-nancy",
   "metadata": {},
   "outputs": [
    {
     "name": "stderr",
     "output_type": "stream",
     "text": [
      "/Users/xinsongdu/.pyenv/versions/miniconda3-latest/lib/python3.8/site-packages/IPython/core/interactiveshell.py:3146: DtypeWarning: Columns (20,21) have mixed types.Specify dtype option on import or set low_memory=False.\n",
      "  has_raised = await self.run_ast_nodes(code_ast.body, cell_name,\n"
     ]
    }
   ],
   "source": [
    "table_2 = pd.read_csv(\"../../nextflow4metabolomics_manuscripts/nextflow4ms-dial/peak_table/local_cmd/ms-flo/AlignResult-2023291844_processed.txt\", delimiter=\"\\t\")"
   ]
  },
  {
   "cell_type": "code",
   "execution_count": 198,
   "id": "ready-found",
   "metadata": {},
   "outputs": [
    {
     "data": {
      "text/html": [
       "<div>\n",
       "<style scoped>\n",
       "    .dataframe tbody tr th:only-of-type {\n",
       "        vertical-align: middle;\n",
       "    }\n",
       "\n",
       "    .dataframe tbody tr th {\n",
       "        vertical-align: top;\n",
       "    }\n",
       "\n",
       "    .dataframe thead th {\n",
       "        text-align: right;\n",
       "    }\n",
       "</style>\n",
       "<table border=\"1\" class=\"dataframe\">\n",
       "  <thead>\n",
       "    <tr style=\"text-align: right;\">\n",
       "      <th></th>\n",
       "      <th>identifier</th>\n",
       "      <th>Alignment ID</th>\n",
       "      <th>Average Mz</th>\n",
       "      <th>Average Rt(min)</th>\n",
       "      <th>duplicate_flag</th>\n",
       "      <th>adduct_flag</th>\n",
       "      <th>isotope_flag</th>\n",
       "      <th>isotope_phr</th>\n",
       "      <th>Metabolite name</th>\n",
       "      <th>Adduct type</th>\n",
       "      <th>...</th>\n",
       "      <th>SB3</th>\n",
       "      <th>SA2</th>\n",
       "      <th>SB4</th>\n",
       "      <th>SB5</th>\n",
       "      <th>SA1</th>\n",
       "      <th>SB2</th>\n",
       "      <th>SA3</th>\n",
       "      <th>SA4</th>\n",
       "      <th>SB1</th>\n",
       "      <th>SA5</th>\n",
       "    </tr>\n",
       "  </thead>\n",
       "  <tbody>\n",
       "    <tr>\n",
       "      <th>0</th>\n",
       "      <td>0.03_171.99</td>\n",
       "      <td>1886</td>\n",
       "      <td>171.9936</td>\n",
       "      <td>0.031</td>\n",
       "      <td>NaN</td>\n",
       "      <td>NaN</td>\n",
       "      <td>NaN</td>\n",
       "      <td>NaN</td>\n",
       "      <td>Unknown</td>\n",
       "      <td>[M+H]+</td>\n",
       "      <td>...</td>\n",
       "      <td>3555931.0</td>\n",
       "      <td>3107714.50</td>\n",
       "      <td>3700617.8</td>\n",
       "      <td>4714087.50</td>\n",
       "      <td>4075218.80</td>\n",
       "      <td>3473687.0</td>\n",
       "      <td>3224671.2</td>\n",
       "      <td>3100795.20</td>\n",
       "      <td>4109884.80</td>\n",
       "      <td>3218963.5</td>\n",
       "    </tr>\n",
       "    <tr>\n",
       "      <th>1</th>\n",
       "      <td>0.03_115.11</td>\n",
       "      <td>507</td>\n",
       "      <td>115.1119</td>\n",
       "      <td>0.034</td>\n",
       "      <td>NaN</td>\n",
       "      <td>NaN</td>\n",
       "      <td>NaN</td>\n",
       "      <td>NaN</td>\n",
       "      <td>Unknown</td>\n",
       "      <td>[M+H]+</td>\n",
       "      <td>...</td>\n",
       "      <td>396968.0</td>\n",
       "      <td>441166.22</td>\n",
       "      <td>386949.2</td>\n",
       "      <td>507670.12</td>\n",
       "      <td>518073.84</td>\n",
       "      <td>416492.8</td>\n",
       "      <td>406312.0</td>\n",
       "      <td>442892.34</td>\n",
       "      <td>425433.44</td>\n",
       "      <td>421556.3</td>\n",
       "    </tr>\n",
       "    <tr>\n",
       "      <th>2</th>\n",
       "      <td>0.04_182.99</td>\n",
       "      <td>2206</td>\n",
       "      <td>182.9855</td>\n",
       "      <td>0.038</td>\n",
       "      <td>NaN</td>\n",
       "      <td>NaN</td>\n",
       "      <td>NaN</td>\n",
       "      <td>NaN</td>\n",
       "      <td>Unknown</td>\n",
       "      <td>[M+H]+</td>\n",
       "      <td>...</td>\n",
       "      <td>6653673.5</td>\n",
       "      <td>6435527.50</td>\n",
       "      <td>6556864.5</td>\n",
       "      <td>7956248.50</td>\n",
       "      <td>8745378.00</td>\n",
       "      <td>6570529.0</td>\n",
       "      <td>6564399.0</td>\n",
       "      <td>6728224.00</td>\n",
       "      <td>8370828.00</td>\n",
       "      <td>6689435.0</td>\n",
       "    </tr>\n",
       "    <tr>\n",
       "      <th>3</th>\n",
       "      <td>0.04_196.15</td>\n",
       "      <td>2621</td>\n",
       "      <td>196.1549</td>\n",
       "      <td>0.042</td>\n",
       "      <td>NaN</td>\n",
       "      <td>NaN</td>\n",
       "      <td>NaN</td>\n",
       "      <td>NaN</td>\n",
       "      <td>Unknown</td>\n",
       "      <td>[M+H]+</td>\n",
       "      <td>...</td>\n",
       "      <td>2228402.2</td>\n",
       "      <td>2745459.00</td>\n",
       "      <td>2217159.0</td>\n",
       "      <td>2885036.20</td>\n",
       "      <td>3511845.20</td>\n",
       "      <td>2311969.0</td>\n",
       "      <td>2600677.0</td>\n",
       "      <td>2587100.20</td>\n",
       "      <td>2931167.50</td>\n",
       "      <td>2586849.2</td>\n",
       "    </tr>\n",
       "    <tr>\n",
       "      <th>4</th>\n",
       "      <td>0.43_118.09</td>\n",
       "      <td>581</td>\n",
       "      <td>118.0864</td>\n",
       "      <td>0.427</td>\n",
       "      <td>Match #069: Possible duplicate of 0.52_118.09 ...</td>\n",
       "      <td>NaN</td>\n",
       "      <td>NaN</td>\n",
       "      <td>NaN</td>\n",
       "      <td>w/o MS2:Valine; LC-ESI-QTOF; MS2; CE</td>\n",
       "      <td>[M+H]+</td>\n",
       "      <td>...</td>\n",
       "      <td>46561192.0</td>\n",
       "      <td>47708448.00</td>\n",
       "      <td>46621160.0</td>\n",
       "      <td>44220552.00</td>\n",
       "      <td>57559904.00</td>\n",
       "      <td>47149300.0</td>\n",
       "      <td>47418344.0</td>\n",
       "      <td>46128584.00</td>\n",
       "      <td>57822920.00</td>\n",
       "      <td>47533796.0</td>\n",
       "    </tr>\n",
       "  </tbody>\n",
       "</table>\n",
       "<p>5 rows × 47 columns</p>\n",
       "</div>"
      ],
      "text/plain": [
       "    identifier Alignment ID Average Mz Average Rt(min)  \\\n",
       "0  0.03_171.99         1886   171.9936           0.031   \n",
       "1  0.03_115.11          507   115.1119           0.034   \n",
       "2  0.04_182.99         2206   182.9855           0.038   \n",
       "3  0.04_196.15         2621   196.1549           0.042   \n",
       "4  0.43_118.09          581   118.0864           0.427   \n",
       "\n",
       "                                      duplicate_flag adduct_flag isotope_flag  \\\n",
       "0                                                NaN         NaN          NaN   \n",
       "1                                                NaN         NaN          NaN   \n",
       "2                                                NaN         NaN          NaN   \n",
       "3                                                NaN         NaN          NaN   \n",
       "4  Match #069: Possible duplicate of 0.52_118.09 ...         NaN          NaN   \n",
       "\n",
       "  isotope_phr                       Metabolite name Adduct type  ...  \\\n",
       "0         NaN                               Unknown      [M+H]+  ...   \n",
       "1         NaN                               Unknown      [M+H]+  ...   \n",
       "2         NaN                               Unknown      [M+H]+  ...   \n",
       "3         NaN                               Unknown      [M+H]+  ...   \n",
       "4         NaN  w/o MS2:Valine; LC-ESI-QTOF; MS2; CE      [M+H]+  ...   \n",
       "\n",
       "          SB3          SA2         SB4          SB5          SA1         SB2  \\\n",
       "0   3555931.0   3107714.50   3700617.8   4714087.50   4075218.80   3473687.0   \n",
       "1    396968.0    441166.22    386949.2    507670.12    518073.84    416492.8   \n",
       "2   6653673.5   6435527.50   6556864.5   7956248.50   8745378.00   6570529.0   \n",
       "3   2228402.2   2745459.00   2217159.0   2885036.20   3511845.20   2311969.0   \n",
       "4  46561192.0  47708448.00  46621160.0  44220552.00  57559904.00  47149300.0   \n",
       "\n",
       "          SA3          SA4          SB1         SA5  \n",
       "0   3224671.2   3100795.20   4109884.80   3218963.5  \n",
       "1    406312.0    442892.34    425433.44    421556.3  \n",
       "2   6564399.0   6728224.00   8370828.00   6689435.0  \n",
       "3   2600677.0   2587100.20   2931167.50   2586849.2  \n",
       "4  47418344.0  46128584.00  57822920.00  47533796.0  \n",
       "\n",
       "[5 rows x 47 columns]"
      ]
     },
     "execution_count": 198,
     "metadata": {},
     "output_type": "execute_result"
    }
   ],
   "source": [
    "table_1.head()"
   ]
  },
  {
   "cell_type": "code",
   "execution_count": 199,
   "id": "overhead-summer",
   "metadata": {},
   "outputs": [
    {
     "data": {
      "text/html": [
       "<div>\n",
       "<style scoped>\n",
       "    .dataframe tbody tr th:only-of-type {\n",
       "        vertical-align: middle;\n",
       "    }\n",
       "\n",
       "    .dataframe tbody tr th {\n",
       "        vertical-align: top;\n",
       "    }\n",
       "\n",
       "    .dataframe thead th {\n",
       "        text-align: right;\n",
       "    }\n",
       "</style>\n",
       "<table border=\"1\" class=\"dataframe\">\n",
       "  <thead>\n",
       "    <tr style=\"text-align: right;\">\n",
       "      <th></th>\n",
       "      <th>identifier</th>\n",
       "      <th>Alignment ID</th>\n",
       "      <th>Average Mz</th>\n",
       "      <th>Average Rt(min)</th>\n",
       "      <th>duplicate_flag</th>\n",
       "      <th>adduct_flag</th>\n",
       "      <th>isotope_flag</th>\n",
       "      <th>isotope_phr</th>\n",
       "      <th>Metabolite name</th>\n",
       "      <th>Adduct type</th>\n",
       "      <th>...</th>\n",
       "      <th>SA1</th>\n",
       "      <th>SA2</th>\n",
       "      <th>SA3</th>\n",
       "      <th>SA4</th>\n",
       "      <th>SA5</th>\n",
       "      <th>SB1</th>\n",
       "      <th>SB2</th>\n",
       "      <th>SB3</th>\n",
       "      <th>SB4</th>\n",
       "      <th>SB5</th>\n",
       "    </tr>\n",
       "  </thead>\n",
       "  <tbody>\n",
       "    <tr>\n",
       "      <th>0</th>\n",
       "      <td>0.03_171.99</td>\n",
       "      <td>1848</td>\n",
       "      <td>171.9936</td>\n",
       "      <td>0.031</td>\n",
       "      <td>NaN</td>\n",
       "      <td>NaN</td>\n",
       "      <td>NaN</td>\n",
       "      <td>NaN</td>\n",
       "      <td>Unknown</td>\n",
       "      <td>[M+H]+</td>\n",
       "      <td>...</td>\n",
       "      <td>4075218.80</td>\n",
       "      <td>3107714.5</td>\n",
       "      <td>3224671.20</td>\n",
       "      <td>3100795.20</td>\n",
       "      <td>3218963.50</td>\n",
       "      <td>4109884.80</td>\n",
       "      <td>3473687.00</td>\n",
       "      <td>3555931.00</td>\n",
       "      <td>3700617.80</td>\n",
       "      <td>4714087.50</td>\n",
       "    </tr>\n",
       "    <tr>\n",
       "      <th>1</th>\n",
       "      <td>0.04_182.99</td>\n",
       "      <td>2151</td>\n",
       "      <td>182.9855</td>\n",
       "      <td>0.038</td>\n",
       "      <td>NaN</td>\n",
       "      <td>NaN</td>\n",
       "      <td>NaN</td>\n",
       "      <td>NaN</td>\n",
       "      <td>Unknown</td>\n",
       "      <td>[M+H]+</td>\n",
       "      <td>...</td>\n",
       "      <td>8745378.00</td>\n",
       "      <td>6435527.5</td>\n",
       "      <td>6564399.00</td>\n",
       "      <td>6728224.00</td>\n",
       "      <td>6689435.00</td>\n",
       "      <td>8370828.00</td>\n",
       "      <td>6570529.00</td>\n",
       "      <td>6653673.50</td>\n",
       "      <td>6556864.50</td>\n",
       "      <td>7956248.50</td>\n",
       "    </tr>\n",
       "    <tr>\n",
       "      <th>2</th>\n",
       "      <td>0.04_196.15</td>\n",
       "      <td>2554</td>\n",
       "      <td>196.1549</td>\n",
       "      <td>0.042</td>\n",
       "      <td>NaN</td>\n",
       "      <td>NaN</td>\n",
       "      <td>NaN</td>\n",
       "      <td>NaN</td>\n",
       "      <td>Unknown</td>\n",
       "      <td>[M+H]+</td>\n",
       "      <td>...</td>\n",
       "      <td>3511845.20</td>\n",
       "      <td>2745459.0</td>\n",
       "      <td>2600677.00</td>\n",
       "      <td>2587100.20</td>\n",
       "      <td>2586849.20</td>\n",
       "      <td>2931167.50</td>\n",
       "      <td>2311969.00</td>\n",
       "      <td>2228402.20</td>\n",
       "      <td>2217159.00</td>\n",
       "      <td>2885036.20</td>\n",
       "    </tr>\n",
       "    <tr>\n",
       "      <th>3</th>\n",
       "      <td>0.41_118.44</td>\n",
       "      <td>554</td>\n",
       "      <td>118.4398</td>\n",
       "      <td>0.407</td>\n",
       "      <td>NaN</td>\n",
       "      <td>NaN</td>\n",
       "      <td>NaN</td>\n",
       "      <td>NaN</td>\n",
       "      <td>Unknown</td>\n",
       "      <td>[M+H]+</td>\n",
       "      <td>...</td>\n",
       "      <td>35294.02</td>\n",
       "      <td>30813.0</td>\n",
       "      <td>50259.05</td>\n",
       "      <td>24106.03</td>\n",
       "      <td>33674.96</td>\n",
       "      <td>31959.85</td>\n",
       "      <td>25801.86</td>\n",
       "      <td>21137.22</td>\n",
       "      <td>19737.76</td>\n",
       "      <td>18970.89</td>\n",
       "    </tr>\n",
       "    <tr>\n",
       "      <th>4</th>\n",
       "      <td>0.43_118.09</td>\n",
       "      <td>539</td>\n",
       "      <td>118.0864</td>\n",
       "      <td>0.427</td>\n",
       "      <td>Match #065: Possible duplicate of 0.52_118.09 ...</td>\n",
       "      <td>NaN</td>\n",
       "      <td>NaN</td>\n",
       "      <td>NaN</td>\n",
       "      <td>w/o MS2:Valine; LC-ESI-QTOF; MS2; CE</td>\n",
       "      <td>[M+H]+</td>\n",
       "      <td>...</td>\n",
       "      <td>57559904.00</td>\n",
       "      <td>47708448.0</td>\n",
       "      <td>47418344.00</td>\n",
       "      <td>46128584.00</td>\n",
       "      <td>47533796.00</td>\n",
       "      <td>57822920.00</td>\n",
       "      <td>47149300.00</td>\n",
       "      <td>46561192.00</td>\n",
       "      <td>46621160.00</td>\n",
       "      <td>44220552.00</td>\n",
       "    </tr>\n",
       "  </tbody>\n",
       "</table>\n",
       "<p>5 rows × 47 columns</p>\n",
       "</div>"
      ],
      "text/plain": [
       "    identifier Alignment ID Average Mz Average Rt(min)  \\\n",
       "0  0.03_171.99         1848   171.9936           0.031   \n",
       "1  0.04_182.99         2151   182.9855           0.038   \n",
       "2  0.04_196.15         2554   196.1549           0.042   \n",
       "3  0.41_118.44          554   118.4398           0.407   \n",
       "4  0.43_118.09          539   118.0864           0.427   \n",
       "\n",
       "                                      duplicate_flag adduct_flag isotope_flag  \\\n",
       "0                                                NaN         NaN          NaN   \n",
       "1                                                NaN         NaN          NaN   \n",
       "2                                                NaN         NaN          NaN   \n",
       "3                                                NaN         NaN          NaN   \n",
       "4  Match #065: Possible duplicate of 0.52_118.09 ...         NaN          NaN   \n",
       "\n",
       "   isotope_phr                       Metabolite name Adduct type  ...  \\\n",
       "0          NaN                               Unknown      [M+H]+  ...   \n",
       "1          NaN                               Unknown      [M+H]+  ...   \n",
       "2          NaN                               Unknown      [M+H]+  ...   \n",
       "3          NaN                               Unknown      [M+H]+  ...   \n",
       "4          NaN  w/o MS2:Valine; LC-ESI-QTOF; MS2; CE      [M+H]+  ...   \n",
       "\n",
       "           SA1         SA2          SA3          SA4          SA5  \\\n",
       "0   4075218.80   3107714.5   3224671.20   3100795.20   3218963.50   \n",
       "1   8745378.00   6435527.5   6564399.00   6728224.00   6689435.00   \n",
       "2   3511845.20   2745459.0   2600677.00   2587100.20   2586849.20   \n",
       "3     35294.02     30813.0     50259.05     24106.03     33674.96   \n",
       "4  57559904.00  47708448.0  47418344.00  46128584.00  47533796.00   \n",
       "\n",
       "           SB1          SB2          SB3          SB4          SB5  \n",
       "0   4109884.80   3473687.00   3555931.00   3700617.80   4714087.50  \n",
       "1   8370828.00   6570529.00   6653673.50   6556864.50   7956248.50  \n",
       "2   2931167.50   2311969.00   2228402.20   2217159.00   2885036.20  \n",
       "3     31959.85     25801.86     21137.22     19737.76     18970.89  \n",
       "4  57822920.00  47149300.00  46561192.00  46621160.00  44220552.00  \n",
       "\n",
       "[5 rows x 47 columns]"
      ]
     },
     "execution_count": 199,
     "metadata": {},
     "output_type": "execute_result"
    }
   ],
   "source": [
    "table_2.head()"
   ]
  },
  {
   "cell_type": "code",
   "execution_count": 235,
   "id": "external-russia",
   "metadata": {},
   "outputs": [
    {
     "data": {
      "text/plain": [
       "0        [171.9936]\n",
       "1        [115.1119]\n",
       "2        [182.9855]\n",
       "3        [196.1549]\n",
       "4        [118.0864]\n",
       "            ...    \n",
       "25673    [157.0355]\n",
       "25674    [138.0586]\n",
       "25675    [157.0354]\n",
       "25676    [157.0354]\n",
       "25677    [157.0356]\n",
       "Name: Average Mz, Length: 25678, dtype: object"
      ]
     },
     "execution_count": 235,
     "metadata": {},
     "output_type": "execute_result"
    }
   ],
   "source": [
    "table_1[\"Average Mz\"].str.split(\"_\")"
   ]
  },
  {
   "cell_type": "code",
   "execution_count": 236,
   "id": "wound-sustainability",
   "metadata": {},
   "outputs": [],
   "source": [
    "test = []"
   ]
  },
  {
   "cell_type": "code",
   "execution_count": 237,
   "id": "unavailable-stage",
   "metadata": {},
   "outputs": [],
   "source": [
    "for element in table_1[\"Average Mz\"].str.split(\"_\"):\n",
    "    test += element"
   ]
  },
  {
   "cell_type": "code",
   "execution_count": 200,
   "id": "scenic-speaker",
   "metadata": {},
   "outputs": [
    {
     "name": "stdout",
     "output_type": "stream",
     "text": [
      "99.99606516093492%%%%\r"
     ]
    }
   ],
   "source": [
    "table_merged_1 = overlapping_peaks(table_1, table_2, \"Average Mz\", \"Average Rt(min)\", 10, 0.3)"
   ]
  },
  {
   "cell_type": "code",
   "execution_count": 201,
   "id": "promotional-scott",
   "metadata": {},
   "outputs": [
    {
     "data": {
      "text/plain": [
       "17245"
      ]
     },
     "execution_count": 201,
     "metadata": {},
     "output_type": "execute_result"
    }
   ],
   "source": [
    "len(table_merged_1)"
   ]
  },
  {
   "cell_type": "markdown",
   "id": "saving-dinner",
   "metadata": {},
   "source": [
    "### HPC NF VS Local NF"
   ]
  },
  {
   "cell_type": "markdown",
   "id": "embedded-glory",
   "metadata": {},
   "source": [
    "#### MS-DIAL"
   ]
  },
  {
   "cell_type": "code",
   "execution_count": 202,
   "id": "improved-earthquake",
   "metadata": {},
   "outputs": [],
   "source": [
    "table_1 = pd.read_csv(\"../../nextflow4metabolomics_manuscripts/nextflow4ms-dial/peak_table/hpc_nf/ms-dial/AlignResult-2023281418.txt\", delimiter=\"\\t\", header=4)"
   ]
  },
  {
   "cell_type": "code",
   "execution_count": 203,
   "id": "starting-audio",
   "metadata": {},
   "outputs": [],
   "source": [
    "table_2 = pd.read_csv(\"../../nextflow4metabolomics_manuscripts/nextflow4ms-dial/peak_table/local_nf/ms-dial/AlignResult-20232101814.txt\", delimiter=\"\\t\", header=4)"
   ]
  },
  {
   "cell_type": "code",
   "execution_count": 204,
   "id": "yellow-trick",
   "metadata": {},
   "outputs": [
    {
     "data": {
      "text/plain": [
       "25952"
      ]
     },
     "execution_count": 204,
     "metadata": {},
     "output_type": "execute_result"
    }
   ],
   "source": [
    "len(table_1)"
   ]
  },
  {
   "cell_type": "code",
   "execution_count": 205,
   "id": "effective-bumper",
   "metadata": {},
   "outputs": [
    {
     "data": {
      "text/plain": [
       "25447"
      ]
     },
     "execution_count": 205,
     "metadata": {},
     "output_type": "execute_result"
    }
   ],
   "source": [
    "len(table_2)"
   ]
  },
  {
   "cell_type": "code",
   "execution_count": 206,
   "id": "fifth-blair",
   "metadata": {},
   "outputs": [
    {
     "name": "stdout",
     "output_type": "stream",
     "text": [
      "99.99607026368531%%%%\r"
     ]
    }
   ],
   "source": [
    "table_merged_22 = overlapping_peaks(table_1, table_2, \"Average Mz\", \"Average Rt(min)\", 10, 0.3)"
   ]
  },
  {
   "cell_type": "code",
   "execution_count": 207,
   "id": "weird-transparency",
   "metadata": {},
   "outputs": [
    {
     "data": {
      "text/plain": [
       "18051"
      ]
     },
     "execution_count": 207,
     "metadata": {},
     "output_type": "execute_result"
    }
   ],
   "source": [
    "len(table_merged_22)"
   ]
  },
  {
   "cell_type": "markdown",
   "id": "assigned-debate",
   "metadata": {},
   "source": [
    "#### MS-FLO"
   ]
  },
  {
   "cell_type": "code",
   "execution_count": 72,
   "id": "satellite-spanking",
   "metadata": {},
   "outputs": [
    {
     "name": "stderr",
     "output_type": "stream",
     "text": [
      "/Users/xinsongdu/.pyenv/versions/miniconda3-latest/lib/python3.8/site-packages/IPython/core/interactiveshell.py:3146: DtypeWarning: Columns (14,28) have mixed types.Specify dtype option on import or set low_memory=False.\n",
      "  has_raised = await self.run_ast_nodes(code_ast.body, cell_name,\n"
     ]
    }
   ],
   "source": [
    "table_1 = pd.read_csv(\"../../nextflow4metabolomics_manuscripts/nextflow4ms-dial/peak_table/hpc_nf/ms-flo/AlignResult-2023281418_processed.txt\", delimiter=\"\\t\")"
   ]
  },
  {
   "cell_type": "code",
   "execution_count": 73,
   "id": "brutal-sarah",
   "metadata": {},
   "outputs": [
    {
     "name": "stderr",
     "output_type": "stream",
     "text": [
      "/Users/xinsongdu/.pyenv/versions/miniconda3-latest/lib/python3.8/site-packages/IPython/core/interactiveshell.py:3146: DtypeWarning: Columns (20,21) have mixed types.Specify dtype option on import or set low_memory=False.\n",
      "  has_raised = await self.run_ast_nodes(code_ast.body, cell_name,\n"
     ]
    }
   ],
   "source": [
    "table_2 = pd.read_csv(\"../../nextflow4metabolomics_manuscripts/nextflow4ms-dial/peak_table/local_nf/ms-flo/AlignResult-20232101814_processed.txt\", delimiter=\"\\t\")"
   ]
  },
  {
   "cell_type": "code",
   "execution_count": 74,
   "id": "removable-carbon",
   "metadata": {},
   "outputs": [
    {
     "data": {
      "text/plain": [
       "25678"
      ]
     },
     "execution_count": 74,
     "metadata": {},
     "output_type": "execute_result"
    }
   ],
   "source": [
    "len(table_1)"
   ]
  },
  {
   "cell_type": "code",
   "execution_count": 75,
   "id": "technological-minnesota",
   "metadata": {},
   "outputs": [
    {
     "data": {
      "text/plain": [
       "25414"
      ]
     },
     "execution_count": 75,
     "metadata": {},
     "output_type": "execute_result"
    }
   ],
   "source": [
    "len(table_2)"
   ]
  },
  {
   "cell_type": "code",
   "execution_count": 78,
   "id": "optimum-junior",
   "metadata": {},
   "outputs": [
    {
     "data": {
      "text/plain": [
       "[123.33, 323.21]"
      ]
     },
     "execution_count": 78,
     "metadata": {},
     "output_type": "execute_result"
    }
   ],
   "source": [
    "[float(x) for x in [\"123.33\", \"323.21\"]]"
   ]
  },
  {
   "cell_type": "code",
   "execution_count": 77,
   "id": "functioning-stadium",
   "metadata": {},
   "outputs": [
    {
     "data": {
      "text/plain": [
       "['171.9936']"
      ]
     },
     "execution_count": 77,
     "metadata": {},
     "output_type": "execute_result"
    }
   ],
   "source": [
    "table_1[\"Average Mz\"].str.split(\"_\")[0]"
   ]
  },
  {
   "cell_type": "code",
   "execution_count": 212,
   "id": "improved-modern",
   "metadata": {},
   "outputs": [
    {
     "name": "stdout",
     "output_type": "stream",
     "text": [
      "99.99606516093492%%%%\r"
     ]
    }
   ],
   "source": [
    "table_merged_2 = overlapping_peaks(table_1, table_2, \"Average Mz\", \"Average Rt(min)\", 10, 0.3)"
   ]
  },
  {
   "cell_type": "code",
   "execution_count": 213,
   "id": "accepted-israel",
   "metadata": {},
   "outputs": [
    {
     "data": {
      "text/plain": [
       "17245"
      ]
     },
     "execution_count": 213,
     "metadata": {},
     "output_type": "execute_result"
    }
   ],
   "source": [
    "len(table_merged_2)"
   ]
  },
  {
   "cell_type": "markdown",
   "id": "living-evanescence",
   "metadata": {},
   "source": [
    "### HPC CMD VS HPC NF"
   ]
  },
  {
   "cell_type": "markdown",
   "id": "communist-madness",
   "metadata": {},
   "source": [
    "#### MS-DIAL"
   ]
  },
  {
   "cell_type": "code",
   "execution_count": 69,
   "id": "optimum-navigator",
   "metadata": {},
   "outputs": [],
   "source": [
    "table_1 = pd.read_csv(\"../../nextflow4metabolomics_manuscripts/nextflow4ms-dial/peak_table/hpc_cmd/ms-dial/AlignResult-2023282236.txt\", delimiter=\"\\t\", header=4)"
   ]
  },
  {
   "cell_type": "code",
   "execution_count": 70,
   "id": "prospective-republic",
   "metadata": {},
   "outputs": [],
   "source": [
    "table_2 = pd.read_csv(\"../../nextflow4metabolomics_manuscripts/nextflow4ms-dial/peak_table/hpc_nf/ms-dial/AlignResult-2023281418.txt\", delimiter=\"\\t\", header=4)"
   ]
  },
  {
   "cell_type": "code",
   "execution_count": 71,
   "id": "weird-behalf",
   "metadata": {},
   "outputs": [
    {
     "data": {
      "text/plain": [
       "25952"
      ]
     },
     "execution_count": 71,
     "metadata": {},
     "output_type": "execute_result"
    }
   ],
   "source": [
    "len(table_1)"
   ]
  },
  {
   "cell_type": "code",
   "execution_count": 72,
   "id": "certain-selection",
   "metadata": {},
   "outputs": [
    {
     "data": {
      "text/plain": [
       "25952"
      ]
     },
     "execution_count": 72,
     "metadata": {},
     "output_type": "execute_result"
    }
   ],
   "source": [
    "len(table_2)"
   ]
  },
  {
   "cell_type": "code",
   "execution_count": 59,
   "id": "looking-lancaster",
   "metadata": {},
   "outputs": [],
   "source": [
    "mzs = list(table_1[\"Average Mz\"])\n",
    "rts = list(table_1[\"Average Rt(min)\"])"
   ]
  },
  {
   "cell_type": "code",
   "execution_count": 60,
   "id": "flush-business",
   "metadata": {},
   "outputs": [],
   "source": [
    "merged_list = [(mzs[i], rts[i]) for i in range(0, len(mzs))]"
   ]
  },
  {
   "cell_type": "code",
   "execution_count": 61,
   "id": "latter-panama",
   "metadata": {},
   "outputs": [
    {
     "data": {
      "text/plain": [
       "(100.01428, 35.967)"
      ]
     },
     "execution_count": 61,
     "metadata": {},
     "output_type": "execute_result"
    }
   ],
   "source": [
    "merged_list[0]"
   ]
  },
  {
   "cell_type": "code",
   "execution_count": 81,
   "id": "assumed-classification",
   "metadata": {},
   "outputs": [
    {
     "name": "stdout",
     "output_type": "stream",
     "text": [
      "99.9961467324291%%%%%%\r"
     ]
    }
   ],
   "source": [
    "peak_merge_33 = overlapping_peaks(table_1, table_2, \"Average Mz\", \"Average Rt(min)\", 10, 0.3)"
   ]
  },
  {
   "cell_type": "code",
   "execution_count": 82,
   "id": "protective-lebanon",
   "metadata": {},
   "outputs": [
    {
     "data": {
      "text/plain": [
       "25952"
      ]
     },
     "execution_count": 82,
     "metadata": {},
     "output_type": "execute_result"
    }
   ],
   "source": [
    "len(peak_merge_33)"
   ]
  },
  {
   "cell_type": "markdown",
   "id": "tested-writing",
   "metadata": {},
   "source": [
    "#### MS-FLO"
   ]
  },
  {
   "cell_type": "code",
   "execution_count": 180,
   "id": "cardiovascular-cover",
   "metadata": {},
   "outputs": [],
   "source": [
    "table_1 = pd.read_csv(\"../../nextflow4metabolomics_manuscripts/nextflow4ms-dial/peak_table/hpc_cmd/ms-flo/AlignResult-2023282236_processed.txt\", delimiter=\"\\t\")"
   ]
  },
  {
   "cell_type": "code",
   "execution_count": 182,
   "id": "prime-facility",
   "metadata": {},
   "outputs": [
    {
     "name": "stderr",
     "output_type": "stream",
     "text": [
      "/Users/xinsongdu/.pyenv/versions/miniconda3-latest/lib/python3.8/site-packages/IPython/core/interactiveshell.py:3146: DtypeWarning: Columns (14,28) have mixed types.Specify dtype option on import or set low_memory=False.\n",
      "  has_raised = await self.run_ast_nodes(code_ast.body, cell_name,\n"
     ]
    }
   ],
   "source": [
    "table_2 = pd.read_csv(\"../../nextflow4metabolomics_manuscripts/nextflow4ms-dial/peak_table/hpc_nf/ms-flo/AlignResult-2023281418_processed.txt\", delimiter=\"\\t\")"
   ]
  },
  {
   "cell_type": "code",
   "execution_count": 183,
   "id": "careful-spencer",
   "metadata": {},
   "outputs": [
    {
     "data": {
      "text/plain": [
       "25678"
      ]
     },
     "execution_count": 183,
     "metadata": {},
     "output_type": "execute_result"
    }
   ],
   "source": [
    "len(table_1)"
   ]
  },
  {
   "cell_type": "code",
   "execution_count": 184,
   "id": "looking-survey",
   "metadata": {},
   "outputs": [
    {
     "data": {
      "text/plain": [
       "25678"
      ]
     },
     "execution_count": 184,
     "metadata": {},
     "output_type": "execute_result"
    }
   ],
   "source": [
    "len(table_2)"
   ]
  },
  {
   "cell_type": "code",
   "execution_count": 185,
   "id": "bizarre-demonstration",
   "metadata": {},
   "outputs": [
    {
     "name": "stdout",
     "output_type": "stream",
     "text": [
      "99.99610561570216%%%%\r"
     ]
    }
   ],
   "source": [
    "peak_merge = overlapping_peaks(table_1, table_2, \"Average Mz\", \"Average Rt(min)\", 10, 0.3)"
   ]
  },
  {
   "cell_type": "code",
   "execution_count": 226,
   "id": "regulated-walker",
   "metadata": {},
   "outputs": [
    {
     "data": {
      "text/plain": [
       "23950"
      ]
     },
     "execution_count": 226,
     "metadata": {},
     "output_type": "execute_result"
    }
   ],
   "source": [
    "len(peak_merge)"
   ]
  },
  {
   "cell_type": "markdown",
   "id": "necessary-angel",
   "metadata": {},
   "source": [
    "### Local CMD VS Local NF"
   ]
  },
  {
   "cell_type": "markdown",
   "id": "biblical-ancient",
   "metadata": {},
   "source": [
    "#### MS-DIAL"
   ]
  },
  {
   "cell_type": "code",
   "execution_count": 267,
   "id": "preceding-alaska",
   "metadata": {},
   "outputs": [],
   "source": [
    "table_1 = pd.read_csv(\"../../nextflow4metabolomics_manuscripts/nextflow4ms-dial/peak_table/local_cmd/ms-dial/AlignResult-2023291844.txt\", delimiter=\"\\t\", header=4)"
   ]
  },
  {
   "cell_type": "code",
   "execution_count": 268,
   "id": "drawn-diamond",
   "metadata": {},
   "outputs": [],
   "source": [
    "table_2 = pd.read_csv(\"../../nextflow4metabolomics_manuscripts/nextflow4ms-dial/peak_table/local_nf/ms-dial/AlignResult-20232101814.txt\", delimiter=\"\\t\", header=4)"
   ]
  },
  {
   "cell_type": "code",
   "execution_count": 269,
   "id": "peripheral-apparel",
   "metadata": {},
   "outputs": [
    {
     "data": {
      "text/plain": [
       "25447"
      ]
     },
     "execution_count": 269,
     "metadata": {},
     "output_type": "execute_result"
    }
   ],
   "source": [
    "len(table_1)"
   ]
  },
  {
   "cell_type": "code",
   "execution_count": 270,
   "id": "southwest-bunny",
   "metadata": {},
   "outputs": [
    {
     "data": {
      "text/plain": [
       "25447"
      ]
     },
     "execution_count": 270,
     "metadata": {},
     "output_type": "execute_result"
    }
   ],
   "source": [
    "len(table_2)"
   ]
  },
  {
   "cell_type": "code",
   "execution_count": 271,
   "id": "printable-making",
   "metadata": {},
   "outputs": [
    {
     "ename": "SystemError",
     "evalue": "<class 'range'> returned a result with an error set",
     "output_type": "error",
     "traceback": [
      "\u001b[0;31m---------------------------------------------------------------------------\u001b[0m",
      "\u001b[0;31mTypeError\u001b[0m                                 Traceback (most recent call last)",
      "\u001b[0;31mTypeError\u001b[0m: must be real number, not getset_descriptor",
      "\nThe above exception was the direct cause of the following exception:\n",
      "\u001b[0;31mSystemError\u001b[0m                               Traceback (most recent call last)",
      "\u001b[0;32m<ipython-input-271-e39e570a985d>\u001b[0m in \u001b[0;36m<module>\u001b[0;34m\u001b[0m\n\u001b[0;32m----> 1\u001b[0;31m \u001b[0mpeak_merge_44\u001b[0m \u001b[0;34m=\u001b[0m \u001b[0moverlapping_peaks\u001b[0m\u001b[0;34m(\u001b[0m\u001b[0mtable_1\u001b[0m\u001b[0;34m,\u001b[0m \u001b[0mtable_2\u001b[0m\u001b[0;34m,\u001b[0m \u001b[0;34m\"Average Mz\"\u001b[0m\u001b[0;34m,\u001b[0m \u001b[0;34m\"Average Rt(min)\"\u001b[0m\u001b[0;34m,\u001b[0m \u001b[0;36m10\u001b[0m\u001b[0;34m,\u001b[0m \u001b[0;36m0.3\u001b[0m\u001b[0;34m)\u001b[0m\u001b[0;34m\u001b[0m\u001b[0;34m\u001b[0m\u001b[0m\n\u001b[0m",
      "\u001b[0;32m<ipython-input-265-c6833a31aa19>\u001b[0m in \u001b[0;36moverlapping_peaks\u001b[0;34m(t_1, t_2, col_name_mz, col_name_rt, ppm_threshold, rt_tolerance)\u001b[0m\n\u001b[1;32m      5\u001b[0m     \u001b[0mtotal\u001b[0m \u001b[0;34m=\u001b[0m \u001b[0mt_2\u001b[0m\u001b[0;34m.\u001b[0m\u001b[0mshape\u001b[0m\u001b[0;34m[\u001b[0m\u001b[0;36m0\u001b[0m\u001b[0;34m]\u001b[0m\u001b[0;34m\u001b[0m\u001b[0;34m\u001b[0m\u001b[0m\n\u001b[1;32m      6\u001b[0m     \u001b[0mmode\u001b[0m \u001b[0;34m=\u001b[0m \u001b[0;34m(\u001b[0m\u001b[0mt_1\u001b[0m\u001b[0;34m[\u001b[0m\u001b[0mcol_name_mz\u001b[0m\u001b[0;34m]\u001b[0m\u001b[0;34m.\u001b[0m\u001b[0miloc\u001b[0m\u001b[0;34m[\u001b[0m\u001b[0;36m0\u001b[0m\u001b[0;34m]\u001b[0m \u001b[0;34m==\u001b[0m \u001b[0mnp\u001b[0m\u001b[0;34m.\u001b[0m\u001b[0mfloat64\u001b[0m\u001b[0;34m)\u001b[0m\u001b[0;34m\u001b[0m\u001b[0;34m\u001b[0m\u001b[0m\n\u001b[0;32m----> 7\u001b[0;31m     \u001b[0;32mfor\u001b[0m \u001b[0mi\u001b[0m \u001b[0;32min\u001b[0m \u001b[0mrange\u001b[0m\u001b[0;34m(\u001b[0m\u001b[0mtotal\u001b[0m\u001b[0;34m)\u001b[0m\u001b[0;34m:\u001b[0m\u001b[0;34m\u001b[0m\u001b[0;34m\u001b[0m\u001b[0m\n\u001b[0m\u001b[1;32m      8\u001b[0m         \u001b[0mprint\u001b[0m\u001b[0;34m(\u001b[0m\u001b[0mi\u001b[0m\u001b[0;34m)\u001b[0m\u001b[0;34m\u001b[0m\u001b[0;34m\u001b[0m\u001b[0m\n",
      "\u001b[0;31mSystemError\u001b[0m: <class 'range'> returned a result with an error set"
     ]
    }
   ],
   "source": [
    "peak_merge_44 = overlapping_peaks(table_1, table_2, \"Average Mz\", \"Average Rt(min)\", 10, 0.3)"
   ]
  },
  {
   "cell_type": "code",
   "execution_count": 225,
   "id": "suited-bulgarian",
   "metadata": {},
   "outputs": [
    {
     "data": {
      "text/plain": [
       "24928"
      ]
     },
     "execution_count": 225,
     "metadata": {},
     "output_type": "execute_result"
    }
   ],
   "source": [
    "len(peak_merge_44)"
   ]
  },
  {
   "cell_type": "markdown",
   "id": "disturbed-correspondence",
   "metadata": {},
   "source": [
    "#### MS-FLO"
   ]
  },
  {
   "cell_type": "code",
   "execution_count": 186,
   "id": "interior-alarm",
   "metadata": {},
   "outputs": [
    {
     "name": "stderr",
     "output_type": "stream",
     "text": [
      "/Users/xinsongdu/.pyenv/versions/miniconda3-latest/lib/python3.8/site-packages/IPython/core/interactiveshell.py:3146: DtypeWarning: Columns (20,21) have mixed types.Specify dtype option on import or set low_memory=False.\n",
      "  has_raised = await self.run_ast_nodes(code_ast.body, cell_name,\n"
     ]
    }
   ],
   "source": [
    "table_1 = pd.read_csv(\"../../nextflow4metabolomics_manuscripts/nextflow4ms-dial/peak_table/local_cmd/ms-flo/AlignResult-2023291844_processed.txt\", delimiter=\"\\t\")"
   ]
  },
  {
   "cell_type": "code",
   "execution_count": 187,
   "id": "played-express",
   "metadata": {},
   "outputs": [],
   "source": [
    "table_2 = pd.read_csv(\"../../nextflow4metabolomics_manuscripts/nextflow4ms-dial/peak_table/local_nf/ms-flo/AlignResult-20232101814_processed.txt\", delimiter=\"\\t\")"
   ]
  },
  {
   "cell_type": "code",
   "execution_count": 188,
   "id": "large-generator",
   "metadata": {},
   "outputs": [
    {
     "name": "stdout",
     "output_type": "stream",
     "text": [
      "99.99606516093492%%%%\r"
     ]
    }
   ],
   "source": [
    "peak_merge_4 = overlapping_peaks(table_1, table_2, \"Average Mz\", \"Average Rt(min)\", 10, 0.3)"
   ]
  },
  {
   "cell_type": "code",
   "execution_count": 227,
   "id": "determined-samuel",
   "metadata": {},
   "outputs": [
    {
     "data": {
      "text/plain": [
       "23862"
      ]
     },
     "execution_count": 227,
     "metadata": {},
     "output_type": "execute_result"
    }
   ],
   "source": [
    "len(peak_merge_4)"
   ]
  },
  {
   "cell_type": "markdown",
   "id": "lucky-infrastructure",
   "metadata": {},
   "source": [
    "## Other Tests"
   ]
  },
  {
   "cell_type": "code",
   "execution_count": 175,
   "id": "fitted-colombia",
   "metadata": {},
   "outputs": [
    {
     "data": {
      "text/plain": [
       "(660, 42)"
      ]
     },
     "execution_count": 175,
     "metadata": {},
     "output_type": "execute_result"
    }
   ],
   "source": [
    "table_1[table_1[\"Annotation tag (VS1.0)\"] == \"annotated by user-defined text library\"].drop_duplicates(subset = \"Metabolite name\").shape"
   ]
  },
  {
   "cell_type": "code",
   "execution_count": 173,
   "id": "polish-surfing",
   "metadata": {},
   "outputs": [
    {
     "data": {
      "text/html": [
       "<div>\n",
       "<style scoped>\n",
       "    .dataframe tbody tr th:only-of-type {\n",
       "        vertical-align: middle;\n",
       "    }\n",
       "\n",
       "    .dataframe tbody tr th {\n",
       "        vertical-align: top;\n",
       "    }\n",
       "\n",
       "    .dataframe thead th {\n",
       "        text-align: right;\n",
       "    }\n",
       "</style>\n",
       "<table border=\"1\" class=\"dataframe\">\n",
       "  <thead>\n",
       "    <tr style=\"text-align: right;\">\n",
       "      <th></th>\n",
       "      <th>Alignment ID</th>\n",
       "      <th>Average Rt(min)</th>\n",
       "      <th>Average Mz</th>\n",
       "      <th>Metabolite name</th>\n",
       "      <th>Adduct type</th>\n",
       "      <th>Post curation result</th>\n",
       "      <th>Fill %</th>\n",
       "      <th>MS/MS assigned</th>\n",
       "      <th>Reference RT</th>\n",
       "      <th>Reference m/z</th>\n",
       "      <th>...</th>\n",
       "      <th>SA1</th>\n",
       "      <th>SA2</th>\n",
       "      <th>SA3</th>\n",
       "      <th>SA4</th>\n",
       "      <th>SA5</th>\n",
       "      <th>SB1</th>\n",
       "      <th>SB2</th>\n",
       "      <th>SB3</th>\n",
       "      <th>SB4</th>\n",
       "      <th>SB5</th>\n",
       "    </tr>\n",
       "  </thead>\n",
       "  <tbody>\n",
       "    <tr>\n",
       "      <th>263</th>\n",
       "      <td>263</td>\n",
       "      <td>0.593</td>\n",
       "      <td>109.07635</td>\n",
       "      <td>C6H8N2</td>\n",
       "      <td>[M+H]+</td>\n",
       "      <td>NaN</td>\n",
       "      <td>1.0</td>\n",
       "      <td>False</td>\n",
       "      <td>0.59</td>\n",
       "      <td>109.07630</td>\n",
       "      <td>...</td>\n",
       "      <td>4.606381e+07</td>\n",
       "      <td>52049700.00</td>\n",
       "      <td>48648996.00</td>\n",
       "      <td>48866940.00</td>\n",
       "      <td>50095360.00</td>\n",
       "      <td>49510468.00</td>\n",
       "      <td>4.723662e+07</td>\n",
       "      <td>4.427318e+07</td>\n",
       "      <td>48335940.00</td>\n",
       "      <td>48993324.00</td>\n",
       "    </tr>\n",
       "    <tr>\n",
       "      <th>265</th>\n",
       "      <td>265</td>\n",
       "      <td>0.528</td>\n",
       "      <td>109.07640</td>\n",
       "      <td>C6H8N2</td>\n",
       "      <td>[M+H]+</td>\n",
       "      <td>NaN</td>\n",
       "      <td>1.0</td>\n",
       "      <td>False</td>\n",
       "      <td>0.59</td>\n",
       "      <td>109.07630</td>\n",
       "      <td>...</td>\n",
       "      <td>2.600366e+07</td>\n",
       "      <td>25304870.00</td>\n",
       "      <td>26239746.00</td>\n",
       "      <td>25760260.00</td>\n",
       "      <td>26979930.00</td>\n",
       "      <td>27128062.00</td>\n",
       "      <td>2.614744e+07</td>\n",
       "      <td>2.504948e+07</td>\n",
       "      <td>26958778.00</td>\n",
       "      <td>26436970.00</td>\n",
       "    </tr>\n",
       "    <tr>\n",
       "      <th>449</th>\n",
       "      <td>449</td>\n",
       "      <td>0.581</td>\n",
       "      <td>114.12804</td>\n",
       "      <td>C7H15N</td>\n",
       "      <td>[M+H]+</td>\n",
       "      <td>NaN</td>\n",
       "      <td>1.0</td>\n",
       "      <td>False</td>\n",
       "      <td>0.58</td>\n",
       "      <td>114.12800</td>\n",
       "      <td>...</td>\n",
       "      <td>5.413586e+07</td>\n",
       "      <td>47681840.00</td>\n",
       "      <td>45654152.00</td>\n",
       "      <td>48545060.00</td>\n",
       "      <td>44667432.00</td>\n",
       "      <td>48684136.00</td>\n",
       "      <td>4.539799e+07</td>\n",
       "      <td>4.475062e+07</td>\n",
       "      <td>44759100.00</td>\n",
       "      <td>48471236.00</td>\n",
       "    </tr>\n",
       "    <tr>\n",
       "      <th>562</th>\n",
       "      <td>562</td>\n",
       "      <td>5.085</td>\n",
       "      <td>119.06066</td>\n",
       "      <td>C7H6N2</td>\n",
       "      <td>[M+H]+</td>\n",
       "      <td>NaN</td>\n",
       "      <td>1.0</td>\n",
       "      <td>False</td>\n",
       "      <td>5.08</td>\n",
       "      <td>119.06060</td>\n",
       "      <td>...</td>\n",
       "      <td>5.412722e+07</td>\n",
       "      <td>58578392.00</td>\n",
       "      <td>48993616.00</td>\n",
       "      <td>51911076.00</td>\n",
       "      <td>49807312.00</td>\n",
       "      <td>47893944.00</td>\n",
       "      <td>4.601670e+07</td>\n",
       "      <td>4.810860e+07</td>\n",
       "      <td>49952244.00</td>\n",
       "      <td>49673528.00</td>\n",
       "    </tr>\n",
       "    <tr>\n",
       "      <th>740</th>\n",
       "      <td>740</td>\n",
       "      <td>0.672</td>\n",
       "      <td>126.05515</td>\n",
       "      <td>C6H7NO2</td>\n",
       "      <td>[M+H]+</td>\n",
       "      <td>NaN</td>\n",
       "      <td>0.8</td>\n",
       "      <td>False</td>\n",
       "      <td>0.63</td>\n",
       "      <td>126.05510</td>\n",
       "      <td>...</td>\n",
       "      <td>1.217748e+07</td>\n",
       "      <td>10208069.00</td>\n",
       "      <td>10337025.00</td>\n",
       "      <td>10018535.00</td>\n",
       "      <td>9628490.00</td>\n",
       "      <td>8517147.00</td>\n",
       "      <td>9.200289e+06</td>\n",
       "      <td>9.645849e+06</td>\n",
       "      <td>9413457.00</td>\n",
       "      <td>10822839.00</td>\n",
       "    </tr>\n",
       "    <tr>\n",
       "      <th>...</th>\n",
       "      <td>...</td>\n",
       "      <td>...</td>\n",
       "      <td>...</td>\n",
       "      <td>...</td>\n",
       "      <td>...</td>\n",
       "      <td>...</td>\n",
       "      <td>...</td>\n",
       "      <td>...</td>\n",
       "      <td>...</td>\n",
       "      <td>...</td>\n",
       "      <td>...</td>\n",
       "      <td>...</td>\n",
       "      <td>...</td>\n",
       "      <td>...</td>\n",
       "      <td>...</td>\n",
       "      <td>...</td>\n",
       "      <td>...</td>\n",
       "      <td>...</td>\n",
       "      <td>...</td>\n",
       "      <td>...</td>\n",
       "      <td>...</td>\n",
       "    </tr>\n",
       "    <tr>\n",
       "      <th>25021</th>\n",
       "      <td>25021</td>\n",
       "      <td>31.697</td>\n",
       "      <td>980.57556</td>\n",
       "      <td>C53H83NO14</td>\n",
       "      <td>[M+Na]+</td>\n",
       "      <td>adduct linked to 24934_[M+H]+</td>\n",
       "      <td>1.0</td>\n",
       "      <td>False</td>\n",
       "      <td>31.70</td>\n",
       "      <td>980.57220</td>\n",
       "      <td>...</td>\n",
       "      <td>4.133900e+07</td>\n",
       "      <td>47972908.00</td>\n",
       "      <td>49342812.00</td>\n",
       "      <td>47552156.00</td>\n",
       "      <td>48896308.00</td>\n",
       "      <td>50457108.00</td>\n",
       "      <td>4.722142e+07</td>\n",
       "      <td>4.351532e+07</td>\n",
       "      <td>44695528.00</td>\n",
       "      <td>45775832.00</td>\n",
       "    </tr>\n",
       "    <tr>\n",
       "      <th>25142</th>\n",
       "      <td>25142</td>\n",
       "      <td>4.495</td>\n",
       "      <td>1019.45032</td>\n",
       "      <td>C49H66N10O10S2</td>\n",
       "      <td>[M+H]+</td>\n",
       "      <td>ion correlated with 2281</td>\n",
       "      <td>0.5</td>\n",
       "      <td>False</td>\n",
       "      <td>4.45</td>\n",
       "      <td>1019.45007</td>\n",
       "      <td>...</td>\n",
       "      <td>2.092166e+06</td>\n",
       "      <td>1821976.80</td>\n",
       "      <td>1716858.20</td>\n",
       "      <td>1969067.80</td>\n",
       "      <td>1968747.90</td>\n",
       "      <td>791041.56</td>\n",
       "      <td>1.685933e+05</td>\n",
       "      <td>5.777482e+04</td>\n",
       "      <td>78292.47</td>\n",
       "      <td>114933.63</td>\n",
       "    </tr>\n",
       "    <tr>\n",
       "      <th>25143</th>\n",
       "      <td>25143</td>\n",
       "      <td>4.390</td>\n",
       "      <td>1019.45239</td>\n",
       "      <td>C49H66N10O10S2</td>\n",
       "      <td>[M+H]+</td>\n",
       "      <td>ion correlated with 1163</td>\n",
       "      <td>0.3</td>\n",
       "      <td>False</td>\n",
       "      <td>4.45</td>\n",
       "      <td>1019.45007</td>\n",
       "      <td>...</td>\n",
       "      <td>4.415434e+04</td>\n",
       "      <td>107192.33</td>\n",
       "      <td>141995.03</td>\n",
       "      <td>103186.31</td>\n",
       "      <td>101158.01</td>\n",
       "      <td>371036.10</td>\n",
       "      <td>2.422940e+05</td>\n",
       "      <td>1.903450e+06</td>\n",
       "      <td>2249673.50</td>\n",
       "      <td>2219476.80</td>\n",
       "    </tr>\n",
       "    <tr>\n",
       "      <th>25144</th>\n",
       "      <td>25144</td>\n",
       "      <td>4.453</td>\n",
       "      <td>1019.45251</td>\n",
       "      <td>C49H66N10O10S2</td>\n",
       "      <td>[M+H]+</td>\n",
       "      <td>NaN</td>\n",
       "      <td>0.3</td>\n",
       "      <td>False</td>\n",
       "      <td>4.45</td>\n",
       "      <td>1019.45007</td>\n",
       "      <td>...</td>\n",
       "      <td>4.510274e+05</td>\n",
       "      <td>1864471.90</td>\n",
       "      <td>660375.30</td>\n",
       "      <td>924083.56</td>\n",
       "      <td>1182922.50</td>\n",
       "      <td>2023898.00</td>\n",
       "      <td>2.069770e+06</td>\n",
       "      <td>7.085063e+05</td>\n",
       "      <td>434584.72</td>\n",
       "      <td>76172.26</td>\n",
       "    </tr>\n",
       "    <tr>\n",
       "      <th>25385</th>\n",
       "      <td>25385</td>\n",
       "      <td>25.915</td>\n",
       "      <td>1270.44934</td>\n",
       "      <td>C56H71N9O23S</td>\n",
       "      <td>[M+2H]2+</td>\n",
       "      <td>ion correlated with 20798; adduct linked to 25...</td>\n",
       "      <td>0.5</td>\n",
       "      <td>False</td>\n",
       "      <td>26.00</td>\n",
       "      <td>1270.44922</td>\n",
       "      <td>...</td>\n",
       "      <td>6.501042e+05</td>\n",
       "      <td>693423.10</td>\n",
       "      <td>644967.06</td>\n",
       "      <td>709392.40</td>\n",
       "      <td>654513.90</td>\n",
       "      <td>176654.16</td>\n",
       "      <td>2.116938e+03</td>\n",
       "      <td>3.835187e+03</td>\n",
       "      <td>0.00</td>\n",
       "      <td>0.00</td>\n",
       "    </tr>\n",
       "  </tbody>\n",
       "</table>\n",
       "<p>1031 rows × 42 columns</p>\n",
       "</div>"
      ],
      "text/plain": [
       "       Alignment ID  Average Rt(min)  Average Mz Metabolite name Adduct type  \\\n",
       "263             263            0.593   109.07635          C6H8N2      [M+H]+   \n",
       "265             265            0.528   109.07640          C6H8N2      [M+H]+   \n",
       "449             449            0.581   114.12804          C7H15N      [M+H]+   \n",
       "562             562            5.085   119.06066          C7H6N2      [M+H]+   \n",
       "740             740            0.672   126.05515         C6H7NO2      [M+H]+   \n",
       "...             ...              ...         ...             ...         ...   \n",
       "25021         25021           31.697   980.57556      C53H83NO14     [M+Na]+   \n",
       "25142         25142            4.495  1019.45032  C49H66N10O10S2      [M+H]+   \n",
       "25143         25143            4.390  1019.45239  C49H66N10O10S2      [M+H]+   \n",
       "25144         25144            4.453  1019.45251  C49H66N10O10S2      [M+H]+   \n",
       "25385         25385           25.915  1270.44934    C56H71N9O23S    [M+2H]2+   \n",
       "\n",
       "                                    Post curation result  Fill %  \\\n",
       "263                                                  NaN     1.0   \n",
       "265                                                  NaN     1.0   \n",
       "449                                                  NaN     1.0   \n",
       "562                                                  NaN     1.0   \n",
       "740                                                  NaN     0.8   \n",
       "...                                                  ...     ...   \n",
       "25021                      adduct linked to 24934_[M+H]+     1.0   \n",
       "25142                           ion correlated with 2281     0.5   \n",
       "25143                           ion correlated with 1163     0.3   \n",
       "25144                                                NaN     0.3   \n",
       "25385  ion correlated with 20798; adduct linked to 25...     0.5   \n",
       "\n",
       "       MS/MS assigned  Reference RT  Reference m/z  ...           SA1  \\\n",
       "263             False          0.59      109.07630  ...  4.606381e+07   \n",
       "265             False          0.59      109.07630  ...  2.600366e+07   \n",
       "449             False          0.58      114.12800  ...  5.413586e+07   \n",
       "562             False          5.08      119.06060  ...  5.412722e+07   \n",
       "740             False          0.63      126.05510  ...  1.217748e+07   \n",
       "...               ...           ...            ...  ...           ...   \n",
       "25021           False         31.70      980.57220  ...  4.133900e+07   \n",
       "25142           False          4.45     1019.45007  ...  2.092166e+06   \n",
       "25143           False          4.45     1019.45007  ...  4.415434e+04   \n",
       "25144           False          4.45     1019.45007  ...  4.510274e+05   \n",
       "25385           False         26.00     1270.44922  ...  6.501042e+05   \n",
       "\n",
       "               SA2          SA3          SA4          SA5          SB1  \\\n",
       "263    52049700.00  48648996.00  48866940.00  50095360.00  49510468.00   \n",
       "265    25304870.00  26239746.00  25760260.00  26979930.00  27128062.00   \n",
       "449    47681840.00  45654152.00  48545060.00  44667432.00  48684136.00   \n",
       "562    58578392.00  48993616.00  51911076.00  49807312.00  47893944.00   \n",
       "740    10208069.00  10337025.00  10018535.00   9628490.00   8517147.00   \n",
       "...            ...          ...          ...          ...          ...   \n",
       "25021  47972908.00  49342812.00  47552156.00  48896308.00  50457108.00   \n",
       "25142   1821976.80   1716858.20   1969067.80   1968747.90    791041.56   \n",
       "25143    107192.33    141995.03    103186.31    101158.01    371036.10   \n",
       "25144   1864471.90    660375.30    924083.56   1182922.50   2023898.00   \n",
       "25385    693423.10    644967.06    709392.40    654513.90    176654.16   \n",
       "\n",
       "                SB2           SB3          SB4          SB5  \n",
       "263    4.723662e+07  4.427318e+07  48335940.00  48993324.00  \n",
       "265    2.614744e+07  2.504948e+07  26958778.00  26436970.00  \n",
       "449    4.539799e+07  4.475062e+07  44759100.00  48471236.00  \n",
       "562    4.601670e+07  4.810860e+07  49952244.00  49673528.00  \n",
       "740    9.200289e+06  9.645849e+06   9413457.00  10822839.00  \n",
       "...             ...           ...          ...          ...  \n",
       "25021  4.722142e+07  4.351532e+07  44695528.00  45775832.00  \n",
       "25142  1.685933e+05  5.777482e+04     78292.47    114933.63  \n",
       "25143  2.422940e+05  1.903450e+06   2249673.50   2219476.80  \n",
       "25144  2.069770e+06  7.085063e+05    434584.72     76172.26  \n",
       "25385  2.116938e+03  3.835187e+03         0.00         0.00  \n",
       "\n",
       "[1031 rows x 42 columns]"
      ]
     },
     "execution_count": 173,
     "metadata": {},
     "output_type": "execute_result"
    }
   ],
   "source": [
    "table_1[table_1[\"Annotation tag (VS1.0)\"] == \"annotated by user-defined text library\"]"
   ]
  },
  {
   "cell_type": "code",
   "execution_count": 168,
   "id": "guided-stupid",
   "metadata": {},
   "outputs": [
    {
     "data": {
      "text/plain": [
       "(17245, 47)"
      ]
     },
     "execution_count": 168,
     "metadata": {},
     "output_type": "execute_result"
    }
   ],
   "source": [
    "table_merged.shape"
   ]
  },
  {
   "cell_type": "code",
   "execution_count": 178,
   "id": "regulated-intent",
   "metadata": {},
   "outputs": [],
   "source": [
    "summary_df = quantification(table_1, table_2, table_merged, \"Annotation tag (VS1.0)\", \"annotated by user-defined text library\", \"Metabolite name\")"
   ]
  },
  {
   "cell_type": "code",
   "execution_count": 179,
   "id": "vietnamese-charter",
   "metadata": {},
   "outputs": [
    {
     "data": {
      "text/html": [
       "<div>\n",
       "<style scoped>\n",
       "    .dataframe tbody tr th:only-of-type {\n",
       "        vertical-align: middle;\n",
       "    }\n",
       "\n",
       "    .dataframe tbody tr th {\n",
       "        vertical-align: top;\n",
       "    }\n",
       "\n",
       "    .dataframe thead th {\n",
       "        text-align: right;\n",
       "    }\n",
       "</style>\n",
       "<table border=\"1\" class=\"dataframe\">\n",
       "  <thead>\n",
       "    <tr style=\"text-align: right;\">\n",
       "      <th></th>\n",
       "      <th>Peak Tables</th>\n",
       "      <th>Total Number of Peaks</th>\n",
       "      <th>Number of True Peaks</th>\n",
       "      <th>True Positive Rate</th>\n",
       "      <th>Number of Distinct Metabolites</th>\n",
       "    </tr>\n",
       "  </thead>\n",
       "  <tbody>\n",
       "    <tr>\n",
       "      <th>0</th>\n",
       "      <td>Peak Table 1</td>\n",
       "      <td>25447</td>\n",
       "      <td>1031</td>\n",
       "      <td>0.0405</td>\n",
       "      <td>660</td>\n",
       "    </tr>\n",
       "    <tr>\n",
       "      <th>1</th>\n",
       "      <td>Peak Table 2</td>\n",
       "      <td>25447</td>\n",
       "      <td>1031</td>\n",
       "      <td>0.0405</td>\n",
       "      <td>660</td>\n",
       "    </tr>\n",
       "    <tr>\n",
       "      <th>2</th>\n",
       "      <td>Merged Peak Table</td>\n",
       "      <td>17245</td>\n",
       "      <td>924</td>\n",
       "      <td>0.0536</td>\n",
       "      <td>629</td>\n",
       "    </tr>\n",
       "  </tbody>\n",
       "</table>\n",
       "</div>"
      ],
      "text/plain": [
       "         Peak Tables  Total Number of Peaks  Number of True Peaks  \\\n",
       "0       Peak Table 1                  25447                  1031   \n",
       "1       Peak Table 2                  25447                  1031   \n",
       "2  Merged Peak Table                  17245                   924   \n",
       "\n",
       "   True Positive Rate  Number of Distinct Metabolites  \n",
       "0              0.0405                             660  \n",
       "1              0.0405                             660  \n",
       "2              0.0536                             629  "
      ]
     },
     "execution_count": 179,
     "metadata": {},
     "output_type": "execute_result"
    }
   ],
   "source": [
    "summary_df"
   ]
  },
  {
   "cell_type": "code",
   "execution_count": null,
   "id": "bacterial-disability",
   "metadata": {},
   "outputs": [],
   "source": []
  }
 ],
 "metadata": {
  "kernelspec": {
   "display_name": "Python 3",
   "language": "python",
   "name": "python3"
  },
  "language_info": {
   "codemirror_mode": {
    "name": "ipython",
    "version": 3
   },
   "file_extension": ".py",
   "mimetype": "text/x-python",
   "name": "python",
   "nbconvert_exporter": "python",
   "pygments_lexer": "ipython3",
   "version": "3.8.15"
  }
 },
 "nbformat": 4,
 "nbformat_minor": 5
}
